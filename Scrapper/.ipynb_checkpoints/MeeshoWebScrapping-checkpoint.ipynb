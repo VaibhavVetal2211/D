{
 "cells": [
  {
   "cell_type": "code",
   "execution_count": null,
   "id": "84252613-b3f0-4113-aaca-ebddb02e9f76",
   "metadata": {},
   "outputs": [],
   "source": [
    "!pip install requests beautifulsoup\n"
   ]
  },
  {
   "cell_type": "code",
   "execution_count": 16,
   "id": "f002d1b4-1042-4342-8157-a6f4bfe7ace2",
   "metadata": {},
   "outputs": [],
   "source": [
    "import requests\n",
    "from bs4 import BeautifulSoup\n",
    "import json"
   ]
  },
  {
   "cell_type": "code",
   "execution_count": 39,
   "id": "10327b01-90a3-4a39-ae39-9563b73b8655",
   "metadata": {},
   "outputs": [],
   "source": [
    "#Step 1: WEBSITE URL ko request bhejna\n",
    "#Meesho\n",
    "url = 'https://www.meesho.com/stylish-casual-block-heels-for-women/p/5y67ap'\n",
    "#Flipkart\n",
    "# url = 'https://www.flipkart.com/apple-iphone-16-plus-black-128-gb/p/itm1abbae671f9ef?pid=MOBH4DQFSAXNVHME&lid=LSTMOBH4DQFSAXNVHMETHBWPZ&marketplace=FLIPKART&store=tyy%2F4io&srno=b_1_1&otracker=CLP_BannerX3&fm=organic&iid=e4539a17-ccaa-4eec-8ed2-33caea0ca71d.MOBH4DQFSAXNVHME.SEARCH&ppt=clp&ppn=mobile-phones-store&ssid=8rwt5ftils0000001746526748410'\n",
    "\n",
    "# url = 'https://www.ajio.com/cetaphil-bright-healthy-radiance-night-comfort-cream/p/4925194930_multi'\n",
    "# url = 'https://www.meesho.com/birde-stylish-comfortable-walking-wear-sports-shoe-for-mens/p/4ew7mf'\n",
    "# url = 'https://www.amazon.in/Bose-QuietComfort-Wireless-Cancelling-Headphones/dp/B0CCZ1L489/ref=sr_1_1?_encoding=UTF8&content-id=amzn1.sym.79789607-58ff-416b-a294-451d00f53cb5&dib=eyJ2IjoiMSJ9.z2VrZP7vFesNSAGpxNj052jCVVD-f29eYLpejMXh3J1h_uW7k39ZKEFrv4RE3tSnjK8FXdbba10mCOzqHSDA-xSds9bUTFsiYMrmDo97JgHxTX1vVK8y_sFcpDRgnYKFvXBltrhHKokdMTZmhGWHRM3NdsNHiEril2OkXBFWxTrwHjYgyRQsrmv9NBQnHdc788tsOUe1YMIjeInZevvZLUrWhXgABDMHevAWgAHLh8jg7UiPbQrvpBGe5ev3qRaquvKfR5oIXX_BbqIM6GqtlaX16au0IzQClswzQ_i1IFY.PJQG046viXWqHjFXPH9jJe4wBd_Okj7oH3_Aocg4uu8&dib_tag=se&pd_rd_r=fea3d909-0294-4960-a9b9-03827139aa13&pd_rd_w=n73nP&pd_rd_wg=AHAc5&qid=1746524238&sr=8-1&th=1'\n",
    "response = requests.get(url) \n",
    "soup = BeautifulSoup(response.content, 'html.parser')\n"
   ]
  },
  {
   "cell_type": "code",
   "execution_count": 40,
   "id": "018be440-1a17-4e57-8c67-5db80e2d4ff0",
   "metadata": {},
   "outputs": [],
   "source": [
    "# Step 2:\n",
    "scripts = soup.find_all('script', type = 'application/ld+json')"
   ]
  },
  {
   "cell_type": "code",
   "execution_count": 41,
   "id": "d6799005-96c7-4748-ac12-9663d613ed7f",
   "metadata": {},
   "outputs": [
    {
     "name": "stdout",
     "output_type": "stream",
     "text": [
      " Customer Name: mayagarg\n",
      " Rating: 5\n",
      " Review: Bahut hi pyari sendle h ekdm fit aai h mere per pr amazing 😍 tq meesho ❤️\n",
      " Tag: Not Available in Static HTML\n",
      "------------------------------------------------------------\n",
      " Customer Name: Jyotsna  goud\n",
      " Rating: 5\n",
      " Review: I really like the fit the material of the product.. must buy product\n",
      " Tag: Not Available in Static HTML\n",
      "------------------------------------------------------------\n"
     ]
    }
   ],
   "source": [
    "#Step 3:\n",
    "for script in scripts:\n",
    "    try:\n",
    "        data = json.loads(script.string)\n",
    "\n",
    "        if \"review\" in data:\n",
    "            for review in data[\"review\"]:\n",
    "                print(f\" Customer Name: {review['author']['name']}\")\n",
    "                print(f\" Rating: {review['reviewRating']['ratingValue']}\")\n",
    "                print(f\" Review: {review['reviewBody']}\")\n",
    "                print(f\" Tag: Not Available in Static HTML\")\n",
    "                print(\"-\" * 60)\n",
    "\n",
    "    except Exception as e:\n",
    "        continue"
   ]
  },
  {
   "cell_type": "code",
   "execution_count": null,
   "id": "8699b494-25a2-4fc7-a243-abe81a2d3ac2",
   "metadata": {},
   "outputs": [],
   "source": []
  }
 ],
 "metadata": {
  "kernelspec": {
   "display_name": "Python 3 (ipykernel)",
   "language": "python",
   "name": "python3"
  },
  "language_info": {
   "codemirror_mode": {
    "name": "ipython",
    "version": 3
   },
   "file_extension": ".py",
   "mimetype": "text/x-python",
   "name": "python",
   "nbconvert_exporter": "python",
   "pygments_lexer": "ipython3",
   "version": "3.13.3"
  }
 },
 "nbformat": 4,
 "nbformat_minor": 5
}
