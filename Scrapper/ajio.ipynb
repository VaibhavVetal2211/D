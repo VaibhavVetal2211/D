{
 "cells": [
  {
   "cell_type": "code",
   "execution_count": 1,
   "id": "dc2b32e4-fc23-4038-8e56-fd9665d46e03",
   "metadata": {},
   "outputs": [],
   "source": [
    "# Create a review scrapper for ajio website to fetch real time comments,\n",
    "# reviews, ratings, comment tags, customer name using Python."
   ]
  },
  {
   "cell_type": "code",
   "execution_count": 17,
   "id": "02828fb6-faef-4b64-acb5-ac1a3ce0e059",
   "metadata": {},
   "outputs": [
    {
     "name": "stdout",
     "output_type": "stream",
     "text": [
      "Requirement already satisfied: lxml in c:\\users\\aniket\\appdata\\local\\programs\\python\\python311\\lib\\site-packages (5.4.0)\n"
     ]
    },
    {
     "name": "stderr",
     "output_type": "stream",
     "text": [
      "\n",
      "[notice] A new release of pip is available: 24.2 -> 25.1.1\n",
      "[notice] To update, run: python.exe -m pip install --upgrade pip\n"
     ]
    },
    {
     "name": "stdout",
     "output_type": "stream",
     "text": [
      "Requirement already satisfied: pip in c:\\users\\aniket\\appdata\\local\\programs\\python\\python311\\lib\\site-packages (24.2)\n",
      "Collecting pip\n",
      "  Downloading pip-25.1.1-py3-none-any.whl.metadata (3.6 kB)\n",
      "Downloading pip-25.1.1-py3-none-any.whl (1.8 MB)\n",
      "   ---------------------------------------- 0.0/1.8 MB ? eta -:--:--\n",
      "   ----- ---------------------------------- 0.3/1.8 MB ? eta -:--:--\n",
      "   ---------------------- ----------------- 1.0/1.8 MB 3.0 MB/s eta 0:00:01\n",
      "   ---------------------------------- ----- 1.6/1.8 MB 3.0 MB/s eta 0:00:01\n",
      "   ---------------------------------------- 1.8/1.8 MB 2.9 MB/s eta 0:00:00\n"
     ]
    },
    {
     "name": "stderr",
     "output_type": "stream",
     "text": [
      "\n",
      "[notice] A new release of pip is available: 24.2 -> 25.1.1\n",
      "[notice] To update, run: python.exe -m pip install --upgrade pip\n",
      "ERROR: To modify pip, please run the following command:\n",
      "C:\\Users\\Aniket\\AppData\\Local\\Programs\\Python\\Python311\\python.exe -m pip install --upgrade pip\n"
     ]
    }
   ],
   "source": [
    "!pip install lxml\n",
    "!pip install --upgrade pip\n",
    "import pandas as pd\n",
    "import requests\n",
    "from bs4 import BeautifulSoup"
   ]
  },
  {
   "cell_type": "code",
   "execution_count": 18,
   "id": "15cd6c2f-8a93-4f4e-97b5-4de0e0b40d55",
   "metadata": {},
   "outputs": [
    {
     "name": "stdout",
     "output_type": "stream",
     "text": [
      "<Response [403]>\n"
     ]
    }
   ],
   "source": [
    "url=\"https://www.ajio.com/s/50-to-90-percent-off-5399-784712?&utm_source=google&utm_medium=cpc&utm_campaign=GSB_Brand_August2019&gad_source=1&gad_campaignid=6466890211&gbraid=0AAAAADP0DvcYU1hVU0ca0rVdTpjvC3ed7&gclid=Cj0KCQjw5ubABhDIARIsAHMighapZ0I5dFvUp41kw0yNUMPgbS95RwkoL0v17ibIzOgE4T4FVRpTNcAaAogaEALw_wcB\"\n",
    "r=requests.get(url)\n",
    "print(r)"
   ]
  },
  {
   "cell_type": "code",
   "execution_count": 19,
   "id": "653ae427-2e47-450b-aee8-0119dad1f17d",
   "metadata": {},
   "outputs": [
    {
     "name": "stdout",
     "output_type": "stream",
     "text": [
      "<html><head>\n",
      "<title>Access Denied</title>\n",
      "</head><body>\n",
      "<h1>Access Denied</h1>\n",
      " \n",
      "You don't have permission to access \"http://www.ajio.com/s/50-to-90-percent-off-5399-784712?\" on this server.<p>\n",
      "Reference #18.473f367.1746623262.12f8954d\n",
      "</p><p>https://errors.edgesuite.net/18.473f367.1746623262.12f8954d</p>\n",
      "</body>\n",
      "</html>\n",
      "\n"
     ]
    }
   ],
   "source": [
    "soup=BeautifulSoup(r.text,\"lxml\")\n",
    "print(soup)"
   ]
  },
  {
   "cell_type": "code",
   "execution_count": 20,
   "id": "75a38b9c-9835-4a3a-8c68-fa77eadd91df",
   "metadata": {},
   "outputs": [],
   "source": [
    "Product_Name=[]\n",
    "names=soup.find_all(\"h1\",class_=\"prod-name\")\n",
    "for i in names:\n",
    "    name=i.text\n",
    "    Product_Name.append(name)\n",
    "    print(Product_Name)"
   ]
  },
  {
   "cell_type": "code",
   "execution_count": 21,
   "id": "abe821c3-13d9-4e42-b14c-e8031d58795c",
   "metadata": {},
   "outputs": [],
   "source": [
    "Price=[]\n",
    "prices=soup.find_all(\"div\",class_=\"prod-price-sec\")\n",
    "for i in prices:\n",
    "    price=i.text\n",
    "    Price.append(price)\n",
    "    print(Price)"
   ]
  },
  {
   "cell_type": "code",
   "execution_count": 24,
   "id": "da502eec-d12c-4765-976c-7a54ea211bc4",
   "metadata": {},
   "outputs": [
    {
     "data": {
      "text/html": [
       "<div>\n",
       "<style scoped>\n",
       "    .dataframe tbody tr th:only-of-type {\n",
       "        vertical-align: middle;\n",
       "    }\n",
       "\n",
       "    .dataframe tbody tr th {\n",
       "        vertical-align: top;\n",
       "    }\n",
       "\n",
       "    .dataframe thead th {\n",
       "        text-align: right;\n",
       "    }\n",
       "</style>\n",
       "<table border=\"1\" class=\"dataframe\">\n",
       "  <thead>\n",
       "    <tr style=\"text-align: right;\">\n",
       "      <th></th>\n",
       "      <th>product name</th>\n",
       "      <th>price</th>\n",
       "    </tr>\n",
       "  </thead>\n",
       "  <tbody>\n",
       "  </tbody>\n",
       "</table>\n",
       "</div>"
      ],
      "text/plain": [
       "Empty DataFrame\n",
       "Columns: [product name, price]\n",
       "Index: []"
      ]
     },
     "execution_count": 24,
     "metadata": {},
     "output_type": "execute_result"
    }
   ],
   "source": [
    "df=pd.DataFrame({\"product name\":Product_Name,\"price\":Price})\n",
    "df.head()"
   ]
  },
  {
   "cell_type": "code",
   "execution_count": 23,
   "id": "52838119-841a-4211-a1a9-66a3e5130401",
   "metadata": {},
   "outputs": [],
   "source": [
    "df.to_csv(\"C:\\\\Users\\\\Aniket\\\\Downloads\\\\College\\\\TE-Sem6\\\\DSBDA_Final\\\\7_Webscraping\\\\Ajio.csv\")"
   ]
  },
  {
   "cell_type": "code",
   "execution_count": null,
   "id": "9905fddb-988b-4b07-8f13-24b99927219c",
   "metadata": {},
   "outputs": [],
   "source": []
  }
 ],
 "metadata": {
  "kernelspec": {
   "display_name": "Python 3 (ipykernel)",
   "language": "python",
   "name": "python3"
  },
  "language_info": {
   "codemirror_mode": {
    "name": "ipython",
    "version": 3
   },
   "file_extension": ".py",
   "mimetype": "text/x-python",
   "name": "python",
   "nbconvert_exporter": "python",
   "pygments_lexer": "ipython3",
   "version": "3.11.2"
  }
 },
 "nbformat": 4,
 "nbformat_minor": 5
}
